{
 "cells": [
  {
   "cell_type": "code",
   "execution_count": 42,
   "metadata": {
    "collapsed": true,
    "pycharm": {
     "is_executing": false,
     "name": "#%%\n"
    }
   },
   "outputs": [],
   "source": [
    "import os\n",
    "import random\n",
    "import pandas as pd\n",
    "import datetime\n",
    "import numpy as np\n",
    "from sklearn.preprocessing import LabelEncoder\n",
    "from etl.data_processor import FeatureProcessor, VERB_MAP, OBSERVABLE\n",
    "import tensorflow as tf\n",
    "import matplotlib.pyplot as plt\n",
    "tf.keras.layers.Conv1D"
   ]
  },
  {
   "cell_type": "code",
   "execution_count": 43,
   "outputs": [],
   "source": [
    "data_a_train = pd.read_csv(os.path.join(\"../data/raw/\", \"data_a_train.csv\"))\n",
    "data_a_train[OBSERVABLE] = data_a_train[OBSERVABLE].apply(\n",
    "    lambda x: VERB_MAP[x] if x in VERB_MAP else x\n",
    ")\n",
    "data_a_hidden = pd.concat(\n",
    "    [\n",
    "        pd.read_csv(os.path.join(\"../data/raw/\", \"data_a_hidden_10.csv\")),\n",
    "        pd.read_csv(os.path.join(\"../data/raw/\", \"data_a_hidden_20.csv\")),\n",
    "        pd.read_csv(os.path.join(\"../data/raw/\", \"data_a_hidden_30.csv\")),\n",
    "    ],\n",
    "    axis=0,\n",
    "    sort=False\n",
    ")\n",
    "data_a_hidden[OBSERVABLE] = data_a_hidden[OBSERVABLE].apply(\n",
    "    lambda x: VERB_MAP[x] if x in VERB_MAP else x\n",
    ")\n",
    "question_type_ln = LabelEncoder()\n",
    "verb_ln = LabelEncoder()\n",
    "verb_ln.fit(data_a_train[\"Observable\"].tolist() + data_a_hidden[\"Observable\"].tolist())\n",
    "question_type_ln.fit(data_a_train[\"ItemType\"].tolist() + data_a_hidden[\"ItemType\"].tolist())\n",
    "\n",
    "hidden_index, hidden = FeatureProcessor().get_multi_dim_verb(data_a_hidden, question_type_ln, verb_ln)\n",
    "train_index, train = FeatureProcessor().get_multi_dim_verb(data_a_train, question_type_ln, verb_ln)\n",
    "label = pd.read_csv(os.path.join(\"../data/raw/\", \"data_train_label.csv\")).set_index(\"STUDENTID\")\n",
    "label = label.reindex(train_index)\n",
    "train = train.astype(np.int32)\n",
    "hidden = hidden.astype(np.int32)"
   ],
   "metadata": {
    "collapsed": false,
    "pycharm": {
     "name": "#%%\n",
     "is_executing": false
    }
   }
  },
  {
   "cell_type": "code",
   "execution_count": 44,
   "outputs": [
    {
     "name": "stdout",
     "text": [
      "(1232, 2599, 3)\n(1232, 1)\n"
     ],
     "output_type": "stream"
    }
   ],
   "source": [
    "print(train[0, :, 0])\n",
    "print(verb_ln.inverse_transform(train[0, train[0, :, 0] != 0, 0]-1))\n",
    "print(train.shape)\n",
    "print(label.shape)\n",
    "zip_combine = list(zip(label.values, train))\n",
    "random.shuffle(zip_combine)\n",
    "label_values, train = zip(*zip_combine)\n",
    "train = np.array(train)\n",
    "label_values = np.array(label_values).astype(int)\n",
    "tmp_hidden = np.zeros(train.shape)\n",
    "tmp_hidden[0: hidden.shape[0], 0: hidden.shape[1], 0: hidden.shape[2]] = hidden\n",
    "hidden = tmp_hidden\n",
    "print(train.shape)\n",
    "print(hidden.shape)\n",
    "print(train[:, :, 0].shape)"
   ],
   "metadata": {
    "collapsed": false,
    "pycharm": {
     "name": "#%%\n",
     "is_executing": false
    }
   }
  },
  {
   "cell_type": "code",
   "execution_count": 45,
   "outputs": [
    {
     "name": "stdout",
     "text": [
      "(1232, 1042, 3)\n(1232, 1042, 3)\n(1232, 1042)\n"
     ],
     "output_type": "stream"
    }
   ],
   "source": [
    "input_dim = max(len(question_type_ln.classes_), len(verb_ln.classes_)) + 2\n",
    "embedding_output_dim = 10 "
   ],
   "metadata": {
    "collapsed": false,
    "pycharm": {
     "name": "#%%\n",
     "is_executing": false
    }
   }
  },
  {
   "cell_type": "code",
   "execution_count": 46,
   "outputs": [],
   "source": [
    "label = label.reindex(train_index)\n",
    "input_dim = max(len(question_type_ln.classes_), len(verb_ln.classes_)) + 2\n",
    "embedding_output_dim = 10 "
   ],
   "metadata": {
    "collapsed": false,
    "pycharm": {
     "name": "#%%\n",
     "is_executing": false
    }
   }
  },
  {
   "cell_type": "code",
   "execution_count": 47,
   "outputs": [],
   "source": [
    "verb_input = tf.keras.layers.Input(shape=(train.shape[1],))\n",
    "question_type_input = tf.keras.layers.Input(shape=(train.shape[1],))\n",
    "duration_level_input = tf.keras.layers.Input(shape=(train.shape[1],))\n",
    "verb_embedding = tf.keras.layers.Embedding(\n",
    "    output_dim=20, \n",
    "    input_dim=len(verb_ln.classes_)+1, \n",
    "    input_length=train.shape[1], \n",
    "    # mask_zero=True\n",
    ")(verb_input)\n",
    "question_type_embedding = tf.keras.layers.Embedding(\n",
    "    output_dim=10, \n",
    "    input_dim=len(question_type_ln.classes_)+1, \n",
    "    input_length=train.shape[1], \n",
    "    # mask_zero=True\n",
    ")(question_type_input)\n",
    "duration_level_embedding = tf.keras.layers.Embedding(\n",
    "    output_dim=10, \n",
    "    input_dim=int(np.max(train[:, :, 2]))+1, \n",
    "    input_length=train.shape[1], \n",
    "    # mask_zero=True\n",
    ")(duration_level_input)\n",
    "merged_input = tf.keras.layers.concatenate([verb_embedding, question_type_embedding, duration_level_embedding], axis=-1)\n",
    "# input_dropout = tf.keras.layers.Dropout(0.2)(merged_input)\n",
    "# lstm = tf.keras.layers.Bidirectional(\n",
    "#     tf.keras.layers.LSTM(\n",
    "#         10, \n",
    "#         dropout=0.3,\n",
    "#         kernel_initializer=tf.keras.initializers.VarianceScaling(),\n",
    "#         recurrent_initializer='orthogonal',\n",
    "#         bias_initializer='random_uniform',\n",
    "#         )\n",
    "# )(merged_input)\n",
    "conv1d_1 = tf.keras.layers.Conv1D(100, 10, activation='relu')(merged_input)\n",
    "conv1d_2 = tf.keras.layers.Conv1D(100, 10, activation='relu')(conv1d_1)\n",
    "max_pool = tf.keras.layers.MaxPooling1D(3)(conv1d_2)\n",
    "conv1d_3 = tf.keras.layers.Conv1D(160, 10, activation='relu')(max_pool)\n",
    "conv1d_4 = tf.keras.layers.Conv1D(160, 10, activation='relu')(conv1d_3)\n",
    "gloable_average = tf.keras.layers.GlobalAveragePooling1D()(conv1d_4)\n",
    "dropout = tf.keras.layers.Dropout(0.5)(gloable_average)\n",
    "# lstm = tf.keras.layers.LSTM(\n",
    "#         50, \n",
    "#         dropout=0.8,\n",
    "#         # kernel_initializer=tf.keras.initializers.VarianceScaling(),\n",
    "#         # recurrent_initializer='orthogonal',\n",
    "#         # bias_initializer='random_uniform',\n",
    "# )(verb_embedding)\n",
    "dense = tf.keras.layers.Dense(\n",
    "    50, \n",
    "    activation='relu',\n",
    "    # kernel_initializer=tf.keras.initializers.VarianceScaling(),\n",
    "    # bias_initializer='random_uniform',\n",
    "    )(conv1d_4)\n",
    "flatten = tf.keras.layers.Flatten()(dense)\n",
    "output = tf.keras.layers.Dense(\n",
    "    1, \n",
    "    activation='sigmoid', \n",
    "    # kernel_initializer=tf.keras.initializers.VarianceScaling(),\n",
    "    # bias_initializer='random_uniform',\n",
    "    )(dropout)\n",
    "model = tf.keras.Model(\n",
    "    inputs=[verb_input, question_type_input, duration_level_input],\n",
    "    outputs=output\n",
    ")\n",
    "optimizer = tf.keras.optimizers.Adam()\n",
    "model.compile(\n",
    "    loss='binary_crossentropy',\n",
    "    optimizer=optimizer,\n",
    "    metrics=['acc']\n",
    ")\n",
    "print(model.summary())\n",
    "# Define the Keras TensorBoard callback.\n",
    "logdir=\"logs/fit/\" + datetime.datetime.now().strftime(\"%Y%m%d-%H%M%S\")"
   ],
   "metadata": {
    "collapsed": false,
    "pycharm": {
     "name": "#%%\n",
     "is_executing": false
    }
   }
  },
  {
   "cell_type": "code",
   "execution_count": 48,
   "outputs": [],
   "source": [
    "tensorboard_callback = tf.keras.callbacks.TensorBoard(\n",
    "    log_dir=logdir,\n",
    "    histogram_freq=1,\n",
    "    write_graph=True,\n",
    "    write_grads=True,\n",
    "    write_images=False,\n",
    "    update_freq=\"epoch\"\n",
    ")"
   ],
   "metadata": {
    "collapsed": false,
    "pycharm": {
     "name": "#%%\n",
     "is_executing": false
    }
   }
  },
  {
   "cell_type": "code",
   "execution_count": null,
   "outputs": [
    {
     "name": "stdout",
     "text": [
      "Train on 985 samples, validate on 247 samples\n",
      "Epoch 1/50\n",
      "\r 32/985 [..............................] - ETA: 3:16 - loss: 0.6938 - acc: 0.3750",
      "\b\b\b\b\b\b\b\b\b\b\b\b\b\b\b\b\b\b\b\b\b\b\b\b\b\b\b\b\b\b\b\b\b\b\b\b\b\b\b\b\b\b\b\b\b\b\b\b\b\b\b\b\b\b\b\b\b\b\b\b\b\b\b\b\b\b\b\b\b\b\b\b\b\b\b\b\b\b\b\b\b\r 64/985 [>.............................] - ETA: 2:04 - loss: 0.6936 - acc: 0.4219",
      "\b\b\b\b\b\b\b\b\b\b\b\b\b\b\b\b\b\b\b\b\b\b\b\b\b\b\b\b\b\b\b\b\b\b\b\b\b\b\b\b\b\b\b\b\b\b\b\b\b\b\b\b\b\b\b\b\b\b\b\b\b\b\b\b\b\b\b\b\b\b\b\b\b\b\b\b\b\b\b\b\b\r 96/985 [=>............................] - ETA: 1:37 - loss: 0.6934 - acc: 0.4896",
      "\b\b\b\b\b\b\b\b\b\b\b\b\b\b\b\b\b\b\b\b\b\b\b\b\b\b\b\b\b\b\b\b\b\b\b\b\b\b\b\b\b\b\b\b\b\b\b\b\b\b\b\b\b\b\b\b\b\b\b\b\b\b\b\b\b\b\b\b\b\b\b\b\b\b\b\b\b\b\b\b\b\r128/985 [==>...........................] - ETA: 1:23 - loss: 0.6934 - acc: 0.4844",
      "\b\b\b\b\b\b\b\b\b\b\b\b\b\b\b\b\b\b\b\b\b\b\b\b\b\b\b\b\b\b\b\b\b\b\b\b\b\b\b\b\b\b\b\b\b\b\b\b\b\b\b\b\b\b\b\b\b\b\b\b\b\b\b\b\b\b\b\b\b\b\b\b\b\b\b\b\b\b\b\b\b\r160/985 [===>..........................] - ETA: 1:16 - loss: 0.6935 - acc: 0.4688",
      "\b\b\b\b\b\b\b\b\b\b\b\b\b\b\b\b\b\b\b\b\b\b\b\b\b\b\b\b\b\b\b\b\b\b\b\b\b\b\b\b\b\b\b\b\b\b\b\b\b\b\b\b\b\b\b\b\b\b\b\b\b\b\b\b\b\b\b\b\b\b\b\b\b\b\b\b\b\b\b\b\b\r192/985 [====>.........................] - ETA: 1:12 - loss: 0.6935 - acc: 0.4740",
      "\b\b\b\b\b\b\b\b\b\b\b\b\b\b\b\b\b\b\b\b\b\b\b\b\b\b\b\b\b\b\b\b\b\b\b\b\b\b\b\b\b\b\b\b\b\b\b\b\b\b\b\b\b\b\b\b\b\b\b\b\b\b\b\b\b\b\b\b\b\b\b\b\b\b\b\b\b\b\b\b\b\r224/985 [=====>........................] - ETA: 1:07 - loss: 0.6935 - acc: 0.4777",
      "\b\b\b\b\b\b\b\b\b\b\b\b\b\b\b\b\b\b\b\b\b\b\b\b\b\b\b\b\b\b\b\b\b\b\b\b\b\b\b\b\b\b\b\b\b\b\b\b\b\b\b\b\b\b\b\b\b\b\b\b\b\b\b\b\b\b\b\b\b\b\b\b\b\b\b\b\b\b\b\b\b\r256/985 [======>.......................] - ETA: 1:02 - loss: 0.6935 - acc: 0.4648",
      "\b\b\b\b\b\b\b\b\b\b\b\b\b\b\b\b\b\b\b\b\b\b\b\b\b\b\b\b\b\b\b\b\b\b\b\b\b\b\b\b\b\b\b\b\b\b\b\b\b\b\b\b\b\b\b\b\b\b\b\b\b\b\b\b\b\b\b\b\b\b\b\b\b\b\b\b\b\b\b\b\b\r288/985 [=======>......................] - ETA: 57s - loss: 0.6935 - acc: 0.4583 ",
      "\b\b\b\b\b\b\b\b\b\b\b\b\b\b\b\b\b\b\b\b\b\b\b\b\b\b\b\b\b\b\b\b\b\b\b\b\b\b\b\b\b\b\b\b\b\b\b\b\b\b\b\b\b\b\b\b\b\b\b\b\b\b\b\b\b\b\b\b\b\b\b\b\b\b\b\b\b\b\b\b\r320/985 [========>.....................] - ETA: 53s - loss: 0.6935 - acc: 0.4563",
      "\b\b\b\b\b\b\b\b\b\b\b\b\b\b\b\b\b\b\b\b\b\b\b\b\b\b\b\b\b\b\b\b\b\b\b\b\b\b\b\b\b\b\b\b\b\b\b\b\b\b\b\b\b\b\b\b\b\b\b\b\b\b\b\b\b\b\b\b\b\b\b\b\b\b\b\b\b\b\b\b\r352/985 [=========>....................] - ETA: 50s - loss: 0.6935 - acc: 0.4460",
      "\b\b\b\b\b\b\b\b\b\b\b\b\b\b\b\b\b\b\b\b\b\b\b\b\b\b\b\b\b\b\b\b\b\b\b\b\b\b\b\b\b\b\b\b\b\b\b\b\b\b\b\b\b\b\b\b\b\b\b\b\b\b\b\b\b\b\b\b\b\b\b\b\b\b\b\b\b\b\b\b\r384/985 [==========>...................] - ETA: 46s - loss: 0.6935 - acc: 0.4453",
      "\b\b\b\b\b\b\b\b\b\b\b\b\b\b\b\b\b\b\b\b\b\b\b\b\b\b\b\b\b\b\b\b\b\b\b\b\b\b\b\b\b\b\b\b\b\b\b\b\b\b\b\b\b\b\b\b\b\b\b\b\b\b\b\b\b\b\b\b\b\b\b\b\b\b\b\b\b\b\b\b\r416/985 [===========>..................] - ETA: 44s - loss: 0.6935 - acc: 0.4327",
      "\b\b\b\b\b\b\b\b\b\b\b\b\b\b\b\b\b\b\b\b\b\b\b\b\b\b\b\b\b\b\b\b\b\b\b\b\b\b\b\b\b\b\b\b\b\b\b\b\b\b\b\b\b\b\b\b\b\b\b\b\b\b\b\b\b\b\b\b\b\b\b\b\b\b\b\b\b\b\b\b\r448/985 [============>.................] - ETA: 40s - loss: 0.6936 - acc: 0.4241",
      "\b\b\b\b\b\b\b\b\b\b\b\b\b\b\b\b\b\b\b\b\b\b\b\b\b\b\b\b\b\b\b\b\b\b\b\b\b\b\b\b\b\b\b\b\b\b\b\b\b\b\b\b\b\b\b\b\b\b\b\b\b\b\b\b\b\b\b\b\b\b\b\b\b\b\b\b\b\b\b\b\r480/985 [=============>................] - ETA: 37s - loss: 0.6936 - acc: 0.4125",
      "\b\b\b\b\b\b\b\b\b\b\b\b\b\b\b\b\b\b\b\b\b\b\b\b\b\b\b\b\b\b\b\b\b\b\b\b\b\b\b\b\b\b\b\b\b\b\b\b\b\b\b\b\b\b\b\b\b\b\b\b\b\b\b\b\b\b\b\b\b\b\b\b\b\b\b\b\b\b\b\b\r512/985 [==============>...............] - ETA: 35s - loss: 0.6936 - acc: 0.4141",
      "\b\b\b\b\b\b\b\b\b\b\b\b\b\b\b\b\b\b\b\b\b\b\b\b\b\b\b\b\b\b\b\b\b\b\b\b\b\b\b\b\b\b\b\b\b\b\b\b\b\b\b\b\b\b\b\b\b\b\b\b\b\b\b\b\b\b\b\b\b\b\b\b\b\b\b\b\b\b\b\b\r544/985 [===============>..............] - ETA: 32s - loss: 0.6935 - acc: 0.4228",
      "\b\b\b\b\b\b\b\b\b\b\b\b\b\b\b\b\b\b\b\b\b\b\b\b\b\b\b\b\b\b\b\b\b\b\b\b\b\b\b\b\b\b\b\b\b\b\b\b\b\b\b\b\b\b\b\b\b\b\b\b\b\b\b\b\b\b\b\b\b\b\b\b\b\b\b\b\b\b\b\b\r576/985 [================>.............] - ETA: 29s - loss: 0.6935 - acc: 0.4219",
      "\b\b\b\b\b\b\b\b\b\b\b\b\b\b\b\b\b\b\b\b\b\b\b\b\b\b\b\b\b\b\b\b\b\b\b\b\b\b\b\b\b\b\b\b\b\b\b\b\b\b\b\b\b\b\b\b\b\b\b\b\b\b\b\b\b\b\b\b\b\b\b\b\b\b\b\b\b\b\b\b\r608/985 [=================>............] - ETA: 27s - loss: 0.6935 - acc: 0.4211",
      "\b\b\b\b\b\b\b\b\b\b\b\b\b\b\b\b\b\b\b\b\b\b\b\b\b\b\b\b\b\b\b\b\b\b\b\b\b\b\b\b\b\b\b\b\b\b\b\b\b\b\b\b\b\b\b\b\b\b\b\b\b\b\b\b\b\b\b\b\b\b\b\b\b\b\b\b\b\b\b\b\r640/985 [==================>...........] - ETA: 24s - loss: 0.6935 - acc: 0.4281",
      "\b\b\b\b\b\b\b\b\b\b\b\b\b\b\b\b\b\b\b\b\b\b\b\b\b\b\b\b\b\b\b\b\b\b\b\b\b\b\b\b\b\b\b\b\b\b\b\b\b\b\b\b\b\b\b\b\b\b\b\b\b\b\b\b\b\b\b\b\b\b\b\b\b\b\b\b\b\b\b\b\r672/985 [===================>..........] - ETA: 22s - loss: 0.6936 - acc: 0.4182",
      "\b\b\b\b\b\b\b\b\b\b\b\b\b\b\b\b\b\b\b\b\b\b\b\b\b\b\b\b\b\b\b\b\b\b\b\b\b\b\b\b\b\b\b\b\b\b\b\b\b\b\b\b\b\b\b\b\b\b\b\b\b\b\b\b\b\b\b\b\b\b\b\b\b\b\b\b\b\b\b\b\r704/985 [====================>.........] - ETA: 19s - loss: 0.6936 - acc: 0.4190",
      "\b\b\b\b\b\b\b\b\b\b\b\b\b\b\b\b\b\b\b\b\b\b\b\b\b\b\b\b\b\b\b\b\b\b\b\b\b\b\b\b\b\b\b\b\b\b\b\b\b\b\b\b\b\b\b\b\b\b\b\b\b\b\b\b\b\b\b\b\b\b\b\b\b\b\b\b\b\b\b\b\r736/985 [=====================>........] - ETA: 17s - loss: 0.6936 - acc: 0.4212"
     ],
     "output_type": "stream"
    }
   ],
   "source": [
    "history = model.fit(\n",
    "    [train[:, :, 0], train[:, :, 1], train[:, :, 2]], \n",
    "    label_values,\n",
    "    # batch_size=100,\n",
    "    shuffle = True,\n",
    "    epochs=3,\n",
    "    validation_split=0.33,\n",
    "    callbacks=[tensorboard_callback],\n",
    ")"
   ],
   "metadata": {
    "collapsed": false,
    "pycharm": {
     "name": "#%%\n",
     "is_executing": true
    }
   }
  },
  {
   "cell_type": "code",
   "execution_count": null,
   "outputs": [],
   "source": [
    "hidden_label = pd.read_csv(os.path.join(\"../data/raw/\", \"hidden_label.csv\"))\n",
    "hidden_result = model.predict([hidden[:, :, 0], hidden[:, :, 1], hidden[:, :, 2]])\n",
    "hidden_result_value = hidden_result.ravel()\n",
    "print(hidden_result_value)\n",
    "predict_result = pd.DataFrame(hidden_result_value, index=hidden_index).reindex(hidden_index)\n",
    "print(predict_result)"
   ],
   "metadata": {
    "collapsed": false,
    "pycharm": {
     "name": "#%%\n",
     "is_executing": true
    }
   }
  },
  {
   "cell_type": "code",
   "execution_count": null,
   "outputs": [],
   "source": [
    "print(hidden_result.ravel())\n",
    "hidden_result_value = hidden_result.ravel()\n",
    "predict_result = pd.DataFrame(hidden_result_value, index=hidden_index).reindex(hidden_index)\n",
    "print(predict_result)\n",
    "predict_result.to_csv(\n",
    "    \"result.csv\",\n",
    "    line_terminator=\",\",\n",
    "    index=False,\n",
    "    header=False\n",
    ")"
   ],
   "metadata": {
    "collapsed": false,
    "pycharm": {
     "name": "#%%\n",
     "is_executing": true
    }
   }
  },
  {
   "cell_type": "code",
   "execution_count": null,
   "outputs": [],
   "source": [
    "def plot_graphs(history, string):\n",
    "    plt.plot(history.history[string])\n",
    "    plt.plot(history.history['val_'+string])\n",
    "    plt.xlabel(\"Epochs\")\n",
    "    plt.ylabel(string)\n",
    "    plt.legend([string, 'val_'+string])\n",
    "    plt.show()"
   ],
   "metadata": {
    "collapsed": false,
    "pycharm": {
     "name": "#%%\n",
     "is_executing": true
    }
   }
  },
  {
   "cell_type": "code",
   "execution_count": null,
   "outputs": [],
   "source": [
    "print(history.history['val_acc'])\n",
    "plot_graphs(history, 'acc')\n",
    "\n",
    "plot_graphs(history, 'loss')\n"
   ],
   "metadata": {
    "collapsed": false,
    "pycharm": {
     "name": "#%%\n",
     "is_executing": true
    }
   }
  }
 ],
 "metadata": {
  "language_info": {
   "codemirror_mode": {
    "name": "ipython",
    "version": 2
   },
   "file_extension": ".py",
   "mimetype": "text/x-python",
   "name": "python",
   "nbconvert_exporter": "python",
   "pygments_lexer": "ipython2",
   "version": "2.7.6"
  },
  "kernelspec": {
   "name": "naep2019-qtp7hbym",
   "language": "python",
   "display_name": "naep2019-QtP7hbym"
  },
  "pycharm": {
   "stem_cell": {
    "cell_type": "raw",
    "source": [],
    "metadata": {
     "collapsed": false
    }
   }
  }
 },
 "nbformat": 4,
 "nbformat_minor": 0
}